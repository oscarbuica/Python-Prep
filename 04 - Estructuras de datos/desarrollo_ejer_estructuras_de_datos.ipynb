{
 "cells": [
  {
   "cell_type": "code",
   "execution_count": 3,
   "metadata": {},
   "outputs": [
    {
     "name": "stdout",
     "output_type": "stream",
     "text": [
      "['Tokio', 'México', 'Nueva York', 'Londres', 'Sidney', 'Estambul']\n"
     ]
    }
   ],
   "source": [
    "#1. Crear una lista que contenga nombres de ciudades del mundo que contenga más de 5 elementos e imprimir por pantalla\n",
    "\n",
    "ciudades = [\"Tokio\", \"México\", \"Nueva York\", \"Londres\", \"Sidney\", \"Estambul\"]\n",
    "print(ciudades)"
   ]
  },
  {
   "cell_type": "code",
   "execution_count": 4,
   "metadata": {},
   "outputs": [
    {
     "name": "stdout",
     "output_type": "stream",
     "text": [
      "México\n"
     ]
    }
   ],
   "source": [
    "#2. Imprimir por pantalla el segundo elemento de la lista\n",
    "\n",
    "print(ciudades[1])"
   ]
  },
  {
   "cell_type": "code",
   "execution_count": 5,
   "metadata": {},
   "outputs": [
    {
     "name": "stdout",
     "output_type": "stream",
     "text": [
      "['México', 'Nueva York', 'Londres', 'Sidney']\n"
     ]
    }
   ],
   "source": [
    "#3. Imprimir por pantalla del segundo al cuarto elemento\n",
    "\n",
    "print(ciudades[1:5])"
   ]
  },
  {
   "cell_type": "code",
   "execution_count": 6,
   "metadata": {},
   "outputs": [
    {
     "name": "stdout",
     "output_type": "stream",
     "text": [
      "<class 'list'>\n"
     ]
    }
   ],
   "source": [
    "#4. Visualizar el tipo de dato de la lista\n",
    "\n",
    "print(type(ciudades))"
   ]
  },
  {
   "cell_type": "code",
   "execution_count": 7,
   "metadata": {},
   "outputs": [
    {
     "name": "stdout",
     "output_type": "stream",
     "text": [
      "['Nueva York', 'Londres', 'Sidney', 'Estambul']\n"
     ]
    }
   ],
   "source": [
    "#5. Visualizar todos los elementos de la lista a partir del tercero de manera genérica, es decir, sin explicitar la posición del último elemento\n",
    "\n",
    "print(ciudades[2:])"
   ]
  },
  {
   "cell_type": "code",
   "execution_count": 8,
   "metadata": {},
   "outputs": [
    {
     "name": "stdout",
     "output_type": "stream",
     "text": [
      "['Tokio', 'México', 'Nueva York', 'Londres']\n"
     ]
    }
   ],
   "source": [
    "#6. Visualizar los primeros 4 elementos de la lista\n",
    "\n",
    "print(ciudades[:4])"
   ]
  },
  {
   "cell_type": "code",
   "execution_count": 9,
   "metadata": {},
   "outputs": [],
   "source": [
    "#7. Agregar una ciudad más a la lista que ya exista y otra que no ¿Arroja algún tipo de error?\n",
    "\n",
    "ciudades.append(\"Londres\")"
   ]
  },
  {
   "cell_type": "code",
   "execution_count": 10,
   "metadata": {},
   "outputs": [],
   "source": [
    "ciudades.append(\"Seúl\")"
   ]
  },
  {
   "cell_type": "code",
   "execution_count": 11,
   "metadata": {},
   "outputs": [
    {
     "name": "stdout",
     "output_type": "stream",
     "text": [
      "['Tokio', 'México', 'Nueva York', 'Londres', 'Sidney', 'Estambul', 'Londres', 'Seúl']\n"
     ]
    }
   ],
   "source": [
    "print(ciudades)"
   ]
  },
  {
   "cell_type": "code",
   "execution_count": 12,
   "metadata": {},
   "outputs": [],
   "source": [
    "#8. Agregar otra ciudad, pero en la cuarta posición\n",
    "\n",
    "ciudades.insert(3, \"Moscú\")"
   ]
  },
  {
   "cell_type": "code",
   "execution_count": 13,
   "metadata": {},
   "outputs": [
    {
     "name": "stdout",
     "output_type": "stream",
     "text": [
      "['Tokio', 'México', 'Nueva York', 'Moscú', 'Londres', 'Sidney', 'Estambul', 'Londres', 'Seúl']\n"
     ]
    }
   ],
   "source": [
    "print(ciudades)"
   ]
  },
  {
   "cell_type": "code",
   "execution_count": 14,
   "metadata": {},
   "outputs": [
    {
     "name": "stdout",
     "output_type": "stream",
     "text": [
      "['Tokio', 'México', 'Nueva York', 'Moscú', 'Londres', 'Sidney', 'Estambul', 'Londres', 'Seúl', 'Río de Janeiro', 'Beijing', 'canada']\n"
     ]
    }
   ],
   "source": [
    "#9. Concatenar otra lista a la ya creada\n",
    "\n",
    "ciudades.extend([\"Río de Janeiro\", \"Beijing\", \"canada\"])\n",
    "print(ciudades)"
   ]
  },
  {
   "cell_type": "code",
   "execution_count": 15,
   "metadata": {},
   "outputs": [
    {
     "name": "stdout",
     "output_type": "stream",
     "text": [
      "4\n"
     ]
    }
   ],
   "source": [
    "#10. Encontrar el índice de la ciudad que en el punto 7 agregamos duplicada. ¿Se nota alguna particularidad?\n",
    "\n",
    "# al buscar la ciudad duplicada, aparece la posicion inicial mas no la posicion donde figura duplicada, en este caso en la quinta posicion.\n",
    "print(ciudades.index(\"Londres\"))"
   ]
  },
  {
   "cell_type": "code",
   "execution_count": 16,
   "metadata": {},
   "outputs": [
    {
     "ename": "ValueError",
     "evalue": "'Medellin' is not in list",
     "output_type": "error",
     "traceback": [
      "\u001b[1;31m---------------------------------------------------------------------------\u001b[0m",
      "\u001b[1;31mValueError\u001b[0m                                Traceback (most recent call last)",
      "Cell \u001b[1;32mIn[16], line 5\u001b[0m\n\u001b[0;32m      1\u001b[0m \u001b[39m#11. ¿Qué pasa si se busca un elemento que no existe?\u001b[39;00m\n\u001b[0;32m      2\u001b[0m \n\u001b[0;32m      3\u001b[0m \u001b[39m# el dato buscado y no existente en la lista, no arroja un error que describe que dicho elemento no se encuentra en la lista.\u001b[39;00m\n\u001b[1;32m----> 5\u001b[0m \u001b[39mprint\u001b[39m(ciudades\u001b[39m.\u001b[39;49mindex(\u001b[39m\"\u001b[39;49m\u001b[39mMedellin\u001b[39;49m\u001b[39m\"\u001b[39;49m))\n",
      "\u001b[1;31mValueError\u001b[0m: 'Medellin' is not in list"
     ]
    }
   ],
   "source": [
    "#11. ¿Qué pasa si se busca un elemento que no existe?\n",
    "\n",
    "# el dato buscado y no existente en la lista, no arroja un error que describe que dicho elemento no se encuentra en la lista.\n",
    "\n",
    "print(ciudades.index(\"Medellin\"))"
   ]
  },
  {
   "cell_type": "code",
   "execution_count": 17,
   "metadata": {},
   "outputs": [],
   "source": [
    "#12. Eliminar un elemento de la lista\n",
    "\n",
    "ciudades.remove(\"México\")"
   ]
  },
  {
   "cell_type": "code",
   "execution_count": 18,
   "metadata": {},
   "outputs": [
    {
     "name": "stdout",
     "output_type": "stream",
     "text": [
      "['Tokio', 'Nueva York', 'Moscú', 'Londres', 'Sidney', 'Estambul', 'Londres', 'Seúl', 'Río de Janeiro', 'Beijing', 'canada']\n"
     ]
    }
   ],
   "source": [
    "print(ciudades)"
   ]
  },
  {
   "cell_type": "code",
   "execution_count": 19,
   "metadata": {},
   "outputs": [
    {
     "ename": "ValueError",
     "evalue": "list.remove(x): x not in list",
     "output_type": "error",
     "traceback": [
      "\u001b[1;31m---------------------------------------------------------------------------\u001b[0m",
      "\u001b[1;31mValueError\u001b[0m                                Traceback (most recent call last)",
      "Cell \u001b[1;32mIn[19], line 3\u001b[0m\n\u001b[0;32m      1\u001b[0m \u001b[39m#13. ¿Qué pasa si el elemento a eliminar no existe?\u001b[39;00m\n\u001b[1;32m----> 3\u001b[0m ciudades\u001b[39m.\u001b[39;49mremove(\u001b[39m\"\u001b[39;49m\u001b[39mBogota\u001b[39;49m\u001b[39m\"\u001b[39;49m)\n",
      "\u001b[1;31mValueError\u001b[0m: list.remove(x): x not in list"
     ]
    }
   ],
   "source": [
    "#13. ¿Qué pasa si el elemento a eliminar no existe?\n",
    "\n",
    "#no intentar eleminar un elemento que no existe en la lista, no arroja el error que indicac que este elemento no se encuentra en la lista.\n",
    "\n",
    "ciudades.remove(\"Bogota\")"
   ]
  },
  {
   "cell_type": "code",
   "execution_count": 20,
   "metadata": {},
   "outputs": [
    {
     "name": "stdout",
     "output_type": "stream",
     "text": [
      "canada\n"
     ]
    }
   ],
   "source": [
    "#14. Extraer el úlimo elemento de la lista, guardarlo en una variable e imprimirlo\n",
    "\n",
    "ultimo = ciudades.pop()\n",
    "print(ultimo)"
   ]
  },
  {
   "cell_type": "code",
   "execution_count": 21,
   "metadata": {},
   "outputs": [
    {
     "name": "stdout",
     "output_type": "stream",
     "text": [
      "['Tokio', 'Nueva York', 'Moscú', 'Londres', 'Sidney', 'Estambul', 'Londres', 'Seúl', 'Río de Janeiro', 'Beijing', 'Tokio', 'Nueva York', 'Moscú', 'Londres', 'Sidney', 'Estambul', 'Londres', 'Seúl', 'Río de Janeiro', 'Beijing', 'Tokio', 'Nueva York', 'Moscú', 'Londres', 'Sidney', 'Estambul', 'Londres', 'Seúl', 'Río de Janeiro', 'Beijing', 'Tokio', 'Nueva York', 'Moscú', 'Londres', 'Sidney', 'Estambul', 'Londres', 'Seúl', 'Río de Janeiro', 'Beijing']\n"
     ]
    }
   ],
   "source": [
    "#15. Mostrar la lista multiplicada por 4\n",
    "\n",
    "print(ciudades * 4)"
   ]
  },
  {
   "cell_type": "code",
   "execution_count": 23,
   "metadata": {},
   "outputs": [
    {
     "name": "stdout",
     "output_type": "stream",
     "text": [
      "<class 'tuple'>\n",
      "(1, 2, 3, 4, 5, 6, 7, 8, 9, 10, 11, 12, 13, 14, 15, 16, 17, 18, 19, 20)\n"
     ]
    }
   ],
   "source": [
    "#16. Crear una tupla que contenga los números enteros del 1 al 20\n",
    "\n",
    "numeros = (1,2,3,4,5,6,7,8,9,10,11,12,13,14,15,16,17,18,19,20)\n",
    "print(type(numeros))\n",
    "print(numeros)\n"
   ]
  },
  {
   "cell_type": "code",
   "execution_count": 26,
   "metadata": {},
   "outputs": [
    {
     "name": "stdout",
     "output_type": "stream",
     "text": [
      "(11, 12, 13, 14, 15, 16)\n"
     ]
    }
   ],
   "source": [
    "#17. Imprimir desde el índice 10 al 15 de la tupla\n",
    "\n",
    "print(numeros[10:16])"
   ]
  },
  {
   "cell_type": "code",
   "execution_count": 27,
   "metadata": {},
   "outputs": [
    {
     "data": {
      "text/plain": [
       "True"
      ]
     },
     "execution_count": 27,
     "metadata": {},
     "output_type": "execute_result"
    }
   ],
   "source": [
    "#18. Evaluar si los números 20 y 30 están dentro de la tupla\n",
    "\n",
    "20 in numeros"
   ]
  },
  {
   "cell_type": "code",
   "execution_count": 28,
   "metadata": {},
   "outputs": [
    {
     "data": {
      "text/plain": [
       "False"
      ]
     },
     "execution_count": 28,
     "metadata": {},
     "output_type": "execute_result"
    }
   ],
   "source": [
    "30 in numeros"
   ]
  },
  {
   "cell_type": "code",
   "execution_count": null,
   "metadata": {},
   "outputs": [],
   "source": [
    "#19. Con la lista creada en el punto 1, validar la existencia del elemento 'París' y si no existe, agregarlo. Utilizar una variable e informar lo sucedido.\n",
    "\n"
   ]
  }
 ],
 "metadata": {
  "kernelspec": {
   "display_name": "Python 3",
   "language": "python",
   "name": "python3"
  },
  "language_info": {
   "codemirror_mode": {
    "name": "ipython",
    "version": 3
   },
   "file_extension": ".py",
   "mimetype": "text/x-python",
   "name": "python",
   "nbconvert_exporter": "python",
   "pygments_lexer": "ipython3",
   "version": "3.11.1"
  },
  "orig_nbformat": 4
 },
 "nbformat": 4,
 "nbformat_minor": 2
}
