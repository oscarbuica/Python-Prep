{
 "cells": [
  {
   "cell_type": "code",
   "execution_count": 33,
   "metadata": {},
   "outputs": [
    {
     "name": "stdout",
     "output_type": "stream",
     "text": [
      "3\n",
      "5\n",
      "7\n",
      "9\n",
      "11\n",
      "13\n"
     ]
    }
   ],
   "source": [
    "lista = [3, 5, 7, 9, 11, 13]\n",
    "\n",
    "i = 0\n",
    "\n",
    "while i < len(lista):\n",
    "    elemento = lista[i]\n",
    "    print(elemento)\n",
    "    i += 1\n",
    "    "
   ]
  },
  {
   "cell_type": "code",
   "execution_count": 25,
   "metadata": {},
   "outputs": [
    {
     "name": "stdout",
     "output_type": "stream",
     "text": [
      "3\n",
      "5\n",
      "7\n",
      "9\n",
      "11\n",
      "13\n",
      "18\n",
      "20\n",
      "22\n",
      "25\n"
     ]
    }
   ],
   "source": [
    "lista2 = [3, 5, 7, 9, 11, 13, 18, 20, 22 , 25]\n",
    "\n",
    "for elemento in lista:\n",
    "    print(elemento)"
   ]
  },
  {
   "cell_type": "code",
   "execution_count": 30,
   "metadata": {},
   "outputs": [
    {
     "name": "stdout",
     "output_type": "stream",
     "text": [
      "o\n",
      "s\n",
      "c\n",
      "a\n",
      "r\n"
     ]
    }
   ],
   "source": [
    "cadena = \"oscar\"\n",
    "\n",
    "for elemento in cadena:\n",
    "    print(elemento)"
   ]
  },
  {
   "cell_type": "code",
   "execution_count": 1,
   "metadata": {},
   "outputs": [
    {
     "name": "stdout",
     "output_type": "stream",
     "text": [
      "0 a\n",
      "1 l\n",
      "2 b\n",
      "3 e\n",
      "4 r\n",
      "5 t\n",
      "6 o\n"
     ]
    }
   ],
   "source": [
    "cadena2 = \"alberto\"\n",
    "\n",
    "for i , elemento in enumerate(cadena2):\n",
    "    print(i, elemento)"
   ]
  },
  {
   "cell_type": "code",
   "execution_count": 14,
   "metadata": {},
   "outputs": [
    {
     "ename": "ImportError",
     "evalue": "cannot import name 'interable' from 'collections' (c:\\Users\\oscar\\AppData\\Local\\Programs\\Python\\Python311\\Lib\\collections\\__init__.py)",
     "output_type": "error",
     "traceback": [
      "\u001b[1;31m---------------------------------------------------------------------------\u001b[0m",
      "\u001b[1;31mImportError\u001b[0m                               Traceback (most recent call last)",
      "Cell \u001b[1;32mIn[14], line 1\u001b[0m\n\u001b[1;32m----> 1\u001b[0m \u001b[39mfrom\u001b[39;00m \u001b[39mcollections\u001b[39;00m \u001b[39mimport\u001b[39;00m interable\n\u001b[0;32m      2\u001b[0m cadena3 \u001b[39m=\u001b[39m \u001b[39m\"\u001b[39m\u001b[39mbuitrago\u001b[39m\u001b[39m\"\u001b[39m\n\u001b[0;32m      3\u001b[0m numero \u001b[39m=\u001b[39m \u001b[39m3\u001b[39m\n",
      "\u001b[1;31mImportError\u001b[0m: cannot import name 'interable' from 'collections' (c:\\Users\\oscar\\AppData\\Local\\Programs\\Python\\Python311\\Lib\\collections\\__init__.py)"
     ]
    }
   ],
   "source": [
    "from collections import interable\n",
    "cadena3 = \"buitrago\"\n",
    "numero = 3\n",
    "print(\"cadena3\", isinstance(cadena3, interable))\n",
    "print(\"numero\", isinstance(numero, interable))\n",
    "\n",
    "cadena3\n",
    "numero\n"
   ]
  },
  {
   "cell_type": "code",
   "execution_count": 2,
   "metadata": {},
   "outputs": [
    {
     "name": "stdout",
     "output_type": "stream",
     "text": [
      "['h', 'o', 'l', 'a']\n"
     ]
    }
   ],
   "source": [
    "nombre = (\"hola\")\n",
    "\n",
    "print(list(nombre))\n"
   ]
  },
  {
   "cell_type": "code",
   "execution_count": 3,
   "metadata": {},
   "outputs": [
    {
     "name": "stdout",
     "output_type": "stream",
     "text": [
      "6\n"
     ]
    }
   ],
   "source": [
    "numeros = [1, 2, 3]\n",
    "\n",
    "print(sum(numeros))"
   ]
  },
  {
   "cell_type": "code",
   "execution_count": 7,
   "metadata": {},
   "outputs": [
    {
     "name": "stdout",
     "output_type": "stream",
     "text": [
      "b,u,i,t,r,a,g,o,c,a,r,r,a,n,z,a\n"
     ]
    }
   ],
   "source": [
    "apellido = (\"buitrago\"+\"carranza\")\n",
    "\n",
    "print(\",\". join(apellido))"
   ]
  },
  {
   "cell_type": "code",
   "execution_count": 34,
   "metadata": {},
   "outputs": [
    {
     "name": "stdout",
     "output_type": "stream",
     "text": [
      "0 nombre\n",
      "1 apellido\n",
      "2 genero\n",
      "3 edad\n"
     ]
    }
   ],
   "source": [
    "mi_diccionario = {\n",
    "    \n",
    "\"nombre\" : \"oscar\", \n",
    "\"apellido\" : \"buitrago\",\n",
    "\"genero\" : \"masculino\",\n",
    "\"edad\" : 38\n",
    "}\n",
    "for i, elemento in enumerate(mi_diccionario):\n",
    "    print(i, elemento)\n"
   ]
  },
  {
   "cell_type": "code",
   "execution_count": 36,
   "metadata": {},
   "outputs": [
    {
     "name": "stdout",
     "output_type": "stream",
     "text": [
      "pagina1\n",
      "pagina2\n",
      "pagina3\n"
     ]
    }
   ],
   "source": [
    "libro = [\"pagina1\", \"pagina2\", \"pagina3\", \"pagina4\", \"pagina5\"]\n",
    "\n",
    "marcapaginas = iter(libro)\n",
    "\n",
    "print(next(marcapaginas))\n",
    "print(next(marcapaginas))\n",
    "print(next(marcapaginas))"
   ]
  },
  {
   "cell_type": "code",
   "execution_count": 39,
   "metadata": {},
   "outputs": [
    {
     "name": "stdout",
     "output_type": "stream",
     "text": [
      "['o', 'o', 'o', 'o', 'o']\n",
      "5\n"
     ]
    }
   ],
   "source": [
    "frase = \"oscar buitrago es desarrollador de ciencia de datos\"\n",
    "\n",
    "letras_o = [i for i in frase if i == \"o\"]\n",
    "\n",
    "print(letras_o)\n",
    "print(len(letras_o))"
   ]
  }
 ],
 "metadata": {
  "kernelspec": {
   "display_name": "Python 3",
   "language": "python",
   "name": "python3"
  },
  "language_info": {
   "codemirror_mode": {
    "name": "ipython",
    "version": 3
   },
   "file_extension": ".py",
   "mimetype": "text/x-python",
   "name": "python",
   "nbconvert_exporter": "python",
   "pygments_lexer": "ipython3",
   "version": "3.11.1"
  },
  "orig_nbformat": 4
 },
 "nbformat": 4,
 "nbformat_minor": 2
}
