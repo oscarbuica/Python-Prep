{
 "cells": [
  {
   "cell_type": "code",
   "execution_count": 1,
   "metadata": {},
   "outputs": [
    {
     "name": "stdout",
     "output_type": "stream",
     "text": [
      "la variable es mayor a cero\n"
     ]
    }
   ],
   "source": [
    "# 1-  Crear una variable que contenga un elemento del conjunto de números enteros y luego imprimir por pantalla si es mayor o menor a cero\n",
    "\n",
    "n = 10  \n",
    "if (n < 0):\n",
    "    print ('la variable es menor que cero')\n",
    "elif(n > 0):\n",
    "    print('la variable es mayor a cero')\n",
    "else:\n",
    "    print('la variable es igual a cero')"
   ]
  },
  {
   "cell_type": "code",
   "execution_count": 2,
   "metadata": {},
   "outputs": [
    {
     "name": "stdout",
     "output_type": "stream",
     "text": [
      "las variables son de tipo de dato distinto\n"
     ]
    }
   ],
   "source": [
    "# 2. Crear dos variables y un condicional que informe si son del mismo tipo de dato\n",
    "\n",
    "edad = 20\n",
    "nombre = ('30') \n",
    "\n",
    "if (type(edad)==int) and (type(nombre)==int):\n",
    "    print('las variables son del mismo tipo de dato')\n",
    "else:\n",
    "    print('las variables son de tipo de dato distinto')"
   ]
  },
  {
   "cell_type": "code",
   "execution_count": 3,
   "metadata": {},
   "outputs": [
    {
     "name": "stdout",
     "output_type": "stream",
     "text": [
      "el numero 1 es impar\n",
      "el numero 2 es par\n",
      "el numero 3 es impar\n",
      "el numero 4 es par\n",
      "el numero 5 es impar\n",
      "el numero 6 es par\n",
      "el numero 7 es impar\n",
      "el numero 8 es par\n",
      "el numero 9 es impar\n",
      "el numero 10 es par\n",
      "el numero 11 es impar\n",
      "el numero 12 es par\n",
      "el numero 13 es impar\n",
      "el numero 14 es par\n",
      "el numero 15 es impar\n",
      "el numero 16 es par\n",
      "el numero 17 es impar\n",
      "el numero 18 es par\n",
      "el numero 19 es impar\n",
      "el numero 20 es par\n"
     ]
    }
   ],
   "source": [
    "# 3. Para los valores enteros del 1 al 20, imprimir por pantalla si es par o impar\n",
    "\n",
    "for n in range (1, 21):\n",
    "    if n % 2  == 0:\n",
    "        print(f'el numero {n} es par')\n",
    "    else:\n",
    "        print(f'el numero {n} es impar')"
   ]
  },
  {
   "cell_type": "code",
   "execution_count": 4,
   "metadata": {},
   "outputs": [
    {
     "name": "stdout",
     "output_type": "stream",
     "text": [
      "el resultado de elevar 0 a la 3 potencia es: 0\n",
      "el resultado de elevar 1 a la 3 potencia es: 1\n",
      "el resultado de elevar 2 a la 3 potencia es: 8\n",
      "el resultado de elevar 3 a la 3 potencia es: 27\n",
      "el resultado de elevar 4 a la 3 potencia es: 64\n",
      "el resultado de elevar 5 a la 3 potencia es: 125\n"
     ]
    }
   ],
   "source": [
    "#4. En un ciclo for mostrar para los valores entre 0 y 5 el resultado de elevarlo a la potencia igual a 3\n",
    "\n",
    "for n in range(0, 6):\n",
    "        print(f'el resultado de elevar {n} a la 3 potencia es: {n**3}')       \n",
    "        "
   ]
  },
  {
   "cell_type": "code",
   "execution_count": null,
   "metadata": {},
   "outputs": [],
   "source": [
    "#5. Crear una variable que contenga un número entero y realizar un ciclo for la misma cantidad de ciclos\n",
    "\n",
    "a = (7)\n",
    "\n",
    "for i in range(0, a):\n",
    "    pass"
   ]
  },
  {
   "cell_type": "code",
   "execution_count": 5,
   "metadata": {},
   "outputs": [
    {
     "name": "stdout",
     "output_type": "stream",
     "text": [
      "el factorial de 1 es 720\n"
     ]
    }
   ],
   "source": [
    "#6. Utilizar un ciclo while para realizar el factoreo de un número guardado en una variable, sólo si la variable contiene un número entero mayor a 0\n",
    "\n",
    "num = 6\n",
    "\n",
    "factorial = 1    \n",
    "if (type(num) == int):\n",
    "    if (num > 0):\n",
    "        num_original = num\n",
    "        while(num > 1):\n",
    "            factorial = factorial * num\n",
    "            num-=1\n",
    "        print(\"el factorial de\",num,\"es\",factorial)    \n",
    "    else:\n",
    "        print(\"la variable debe de ser mayor a cero\")\n",
    "else:\n",
    "    print(\"la variable debe de ser un numero entero\")    "
   ]
  },
  {
   "cell_type": "code",
   "execution_count": 6,
   "metadata": {},
   "outputs": [
    {
     "name": "stdout",
     "output_type": "stream",
     "text": [
      "el ciclo while es: 2\n",
      "el ciclo for es: 1\n",
      "el ciclo while es: 3\n",
      "el ciclo for es: 1\n",
      "el ciclo while es: 3\n",
      "el ciclo for es: 2\n",
      "el ciclo while es: 4\n",
      "el ciclo for es: 1\n",
      "el ciclo while es: 4\n",
      "el ciclo for es: 2\n",
      "el ciclo while es: 4\n",
      "el ciclo for es: 3\n"
     ]
    }
   ],
   "source": [
    "#7. Crear un ciclo for dentro de un ciclo while\n",
    "\n",
    "num = 0\n",
    "\n",
    "while (num < 4):\n",
    "    num += 1\n",
    "    for i in range(1,num):\n",
    "        print(f\"el ciclo while es: {num}\")\n",
    "        print(f\"el ciclo for es: {i}\")"
   ]
  },
  {
   "cell_type": "code",
   "execution_count": 7,
   "metadata": {},
   "outputs": [
    {
     "name": "stdout",
     "output_type": "stream",
     "text": [
      "el ciclo for es: 0\n",
      "el ciclo while es: 5\n",
      "el ciclo for es: 1\n",
      "el ciclo while es: 5\n",
      "el ciclo for es: 2\n",
      "el ciclo while es: 5\n",
      "el ciclo for es: 3\n",
      "el ciclo while es: 5\n",
      "el ciclo for es: 4\n",
      "el ciclo while es: 5\n"
     ]
    }
   ],
   "source": [
    "#8. Crear un ciclo while dentro de un ciclo for\n",
    "\n",
    "a = 5\n",
    "\n",
    "for i in range(0,a):\n",
    "    while (a < 5):\n",
    "        a += 1\n",
    "    print(f\"el ciclo for es: {i}\")\n",
    "    print(f\"el ciclo while es: {a}\")"
   ]
  },
  {
   "cell_type": "code",
   "execution_count": 8,
   "metadata": {},
   "outputs": [
    {
     "name": "stdout",
     "output_type": "stream",
     "text": [
      "el numero 0, es primo\n",
      "el numero 1, es primo\n",
      "el numero 2, es primo\n",
      "el numero 3, es primo\n",
      "el numero 5, es primo\n",
      "el numero 7, es primo\n",
      "el numero 11, es primo\n",
      "el numero 13, es primo\n",
      "el numero 17, es primo\n",
      "el numero 19, es primo\n",
      "el numero 23, es primo\n",
      "el numero 29, es primo\n"
     ]
    }
   ],
   "source": [
    "#9. imprimir los numeros primos existentes entre 0 y 30\n",
    "\n",
    "for numero in range (0, 31):    \n",
    "    es_primo = True\n",
    "    for i in range (2,numero):\n",
    "        if (numero % i == 0):\n",
    "            es_primo = False\n",
    "    if (es_primo):\n",
    "        print(f\"el numero {numero}, es primo\")\n",
    "    "
   ]
  },
  {
   "cell_type": "code",
   "execution_count": 9,
   "metadata": {},
   "outputs": [
    {
     "name": "stdout",
     "output_type": "stream",
     "text": [
      "el numero 0, es primo\n",
      "el numero 1, es primo\n",
      "el numero 2, es primo\n",
      "el numero 3, es primo\n",
      "el numero 5, es primo\n",
      "el numero 7, es primo\n",
      "el numero 11, es primo\n",
      "el numero 13, es primo\n",
      "el numero 17, es primo\n",
      "el numero 19, es primo\n",
      "el numero 23, es primo\n",
      "el numero 29, es primo\n"
     ]
    }
   ],
   "source": [
    "#10 se puede mejorar el proceso del punto 9?, utilizar las sentencias break y/o continue para tal fin.\n",
    "for numero in range (0, 31):    \n",
    "    es_primo = True\n",
    "    for i in range (2,numero):\n",
    "        if (numero % i == 0):\n",
    "            es_primo = False\n",
    "            break\n",
    "    if (es_primo):\n",
    "        print(f\"el numero {numero}, es primo\")"
   ]
  },
  {
   "cell_type": "code",
   "execution_count": 10,
   "metadata": {},
   "outputs": [
    {
     "name": "stdout",
     "output_type": "stream",
     "text": [
      "el numero 0, es primo\n",
      "el numero 1, es primo\n",
      "el numero 2, es primo\n",
      "el numero 3, es primo\n",
      "el numero 5, es primo\n",
      "el numero 7, es primo\n",
      "el numero 11, es primo\n",
      "el numero 13, es primo\n",
      "el numero 17, es primo\n",
      "el numero 19, es primo\n",
      "el numero 23, es primo\n",
      "el numero 29, es primo\n",
      "cantidad de ciclos:  135\n"
     ]
    }
   ],
   "source": [
    "#11. En los puntos 9 y 10, se diseño un código que encuentra números primos y además se lo optimizó. ¿Es posible saber en qué medida se optimizó? \n",
    "\n",
    "# si se optimizó en la cantidad de ciclos realizados, pasó de ejecutar 406 veces a 135 veces\n",
    "# optimizacion = 32%\n",
    "\n",
    "cantidad_ciclos = 0\n",
    "for numero in range (0, 31): \n",
    "    es_primo = True\n",
    "    for i in range (2,numero):\n",
    "        cantidad_ciclos += 1 \n",
    "        if (numero % i == 0):\n",
    "            es_primo = False\n",
    "            break\n",
    "    if (es_primo):\n",
    "        print(f\"el numero {numero}, es primo\")\n",
    "print(\"cantidad de ciclos: \", cantidad_ciclos)    \n",
    "        "
   ]
  },
  {
   "cell_type": "code",
   "execution_count": 11,
   "metadata": {},
   "outputs": [
    {
     "name": "stdout",
     "output_type": "stream",
     "text": [
      "0.33251231527093594\n"
     ]
    }
   ],
   "source": [
    "con_break = 135\n",
    "sin_break = 406\n",
    "optimizacion = con_break / sin_break\n",
    "print(optimizacion)"
   ]
  },
  {
   "cell_type": "code",
   "execution_count": 12,
   "metadata": {},
   "outputs": [
    {
     "name": "stdout",
     "output_type": "stream",
     "text": [
      "el numero 0, es primo\n",
      "el numero 1, es primo\n",
      "el numero 2, es primo\n",
      "el numero 3, es primo\n",
      "el numero 5, es primo\n",
      "el numero 7, es primo\n",
      "el numero 11, es primo\n",
      "el numero 13, es primo\n",
      "el numero 17, es primo\n",
      "el numero 19, es primo\n",
      "el numero 23, es primo\n",
      "el numero 29, es primo\n",
      "el numero 31, es primo\n",
      "el numero 37, es primo\n",
      "el numero 41, es primo\n",
      "el numero 43, es primo\n",
      "el numero 47, es primo\n",
      "el numero 53, es primo\n",
      "el numero 59, es primo\n",
      "el numero 61, es primo\n",
      "el numero 67, es primo\n",
      "el numero 71, es primo\n",
      "el numero 73, es primo\n",
      "el numero 79, es primo\n",
      "cantidad de ciclos:  837\n"
     ]
    }
   ],
   "source": [
    "#12 Si la cantidad de números que se evalúa es mayor a treinta, esa optimización crece?\n",
    "# el mismo caso pero con mayor cantidad de numeros, se evidencia que la optimizacion crece, obteniendo en el segundo caso un 27% de interacion.\n",
    "\n",
    "cantidad_ciclos = 0\n",
    "for numero in range (0, 80): \n",
    "    es_primo = True\n",
    "    for i in range (2,numero):\n",
    "        cantidad_ciclos += 1 \n",
    "        if (numero % i == 0):\n",
    "            es_primo = False\n",
    "            break\n",
    "    if (es_primo):\n",
    "        print(f\"el numero {numero}, es primo\")\n",
    "print(\"cantidad de ciclos: \", cantidad_ciclos) \n"
   ]
  },
  {
   "cell_type": "code",
   "execution_count": 14,
   "metadata": {},
   "outputs": [
    {
     "name": "stdout",
     "output_type": "stream",
     "text": [
      "0.2787212787212787\n"
     ]
    }
   ],
   "source": [
    "con_break2 = 837\n",
    "sin_break2 = 3003\n",
    "optimizacion2 = con_break2 / sin_break2\n",
    "print(optimizacion2)"
   ]
  },
  {
   "cell_type": "code",
   "execution_count": 15,
   "metadata": {},
   "outputs": [
    {
     "name": "stdout",
     "output_type": "stream",
     "text": [
      "108 es divisible por 12\n",
      "120 es divisible por 12\n",
      "132 es divisible por 12\n",
      "144 es divisible por 12\n",
      "156 es divisible por 12\n",
      "168 es divisible por 12\n",
      "180 es divisible por 12\n",
      "192 es divisible por 12\n",
      "204 es divisible por 12\n",
      "216 es divisible por 12\n",
      "228 es divisible por 12\n",
      "240 es divisible por 12\n",
      "252 es divisible por 12\n",
      "264 es divisible por 12\n",
      "276 es divisible por 12\n",
      "288 es divisible por 12\n",
      "300 es divisible por 12\n"
     ]
    }
   ],
   "source": [
    "#13 Aplicando continue, armar un ciclo while que solo imprima los valores divisibles por 12, dentro del rango de números de 100 a 300\n",
    "\n",
    "n = 100\n",
    "\n",
    "while ( n <= 300):\n",
    "    n += 1\n",
    "    if (n % 12 != 0):\n",
    "        continue\n",
    "    print(n, \"es divisible por 12\")"
   ]
  },
  {
   "cell_type": "code",
   "execution_count": 16,
   "metadata": {},
   "outputs": [
    {
     "name": "stdout",
     "output_type": "stream",
     "text": [
      "5\n",
      "¿Desea encontrar el siguiente número primo?\n"
     ]
    }
   ],
   "source": [
    "#14 Utilizar la función input() que permite hacer ingresos por teclado, para encontrar números primos y dar la opción al usario de buscar el siguiente\n",
    "\n",
    "n = 5\n",
    "sigue = 1\n",
    "primo = True\n",
    "while (sigue == 1):\n",
    "    for div in range(2, n):\n",
    "        if (n % div == 0):\n",
    "            primo = False\n",
    "            break\n",
    "    if (primo):\n",
    "        print(n)\n",
    "        print('¿Desea encontrar el siguiente número primo?')\n",
    "        if (input() != '1'):\n",
    "            break\n",
    "    else:\n",
    "        primo = True\n",
    "    n += 1\n"
   ]
  },
  {
   "cell_type": "code",
   "execution_count": 17,
   "metadata": {},
   "outputs": [
    {
     "name": "stdout",
     "output_type": "stream",
     "text": [
      "el primer número divisible por 3 y multiplo de 6 es:  102\n"
     ]
    }
   ],
   "source": [
    "#15 Crear un ciclo while que encuentre dentro del rango de 100 a 300 el primer número divisible por 3 y además múltiplo de 6\n",
    "\n",
    "n = 100\n",
    "while(n<=300):\n",
    "    if (n % 6 == 0):\n",
    "        print('el primer número divisible por 3 y multiplo de 6 es: ', str(n))\n",
    "        break\n",
    "    n += 1\n"
   ]
  }
 ],
 "metadata": {
  "kernelspec": {
   "display_name": "Python 3",
   "language": "python",
   "name": "python3"
  },
  "language_info": {
   "codemirror_mode": {
    "name": "ipython",
    "version": 3
   },
   "file_extension": ".py",
   "mimetype": "text/x-python",
   "name": "python",
   "nbconvert_exporter": "python",
   "pygments_lexer": "ipython3",
   "version": "3.11.1"
  },
  "orig_nbformat": 4
 },
 "nbformat": 4,
 "nbformat_minor": 2
}
